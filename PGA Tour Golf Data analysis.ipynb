{
 "cells": [
  {
   "cell_type": "markdown",
   "metadata": {},
   "source": [
    "# PGA Tour analysis"
   ]
  },
  {
   "cell_type": "markdown",
   "metadata": {},
   "source": [
    "This project consist of analysis, clustering and estimating total ranking score of golf players during PGA tournaments in years 2010-2018. Data comes from Kaggle repository https://www.kaggle.com/bradklassen/pga-tour-20102018-data. We use only one of available files. The reason is computational power limitations.\n",
    "\n",
    "We treat as a data point set of all possible statistics of one player during one season. Thus, we allow one player to be in two different clusters in two different seasons. This assumption seems reasonable, as we can observe changes in styles and performance of sport players over time.\n",
    "\n",
    "Most commonly used clustering methods are:\n",
    "* K-Means\n",
    "* DBSCAN\n",
    "* Hierarchical clustering (agglomerative and divisive)\n",
    "* Gaussian mixture model \n",
    "\n",
    "We will use K-Means and DBSCAN."
   ]
  },
  {
   "cell_type": "code",
   "execution_count": 1,
   "metadata": {},
   "outputs": [],
   "source": [
    "import pandas as pd\n",
    "import matplotlib.pyplot as plt\n",
    "import re \n",
    "import numpy as np\n",
    "from sklearn.preprocessing import StandardScaler\n",
    "from sklearn.cluster import KMeans\n",
    "from matplotlib import colors as mcolors\n",
    "from sklearn.pipeline import make_pipeline\n",
    "from sklearn.decomposition import PCA\n",
    "from sklearn.cluster import DBSCAN\n",
    "from sklearn.manifold import TSNE\n",
    "from sklearn.metrics import silhouette_score\n",
    "from itertools import product\n",
    "from sklearn.ensemble import RandomForestRegressor\n",
    "from sklearn.model_selection import train_test_split"
   ]
  },
  {
   "cell_type": "markdown",
   "metadata": {},
   "source": [
    "Load historic data and see the structure:"
   ]
  },
  {
   "cell_type": "code",
   "execution_count": 2,
   "metadata": {},
   "outputs": [
    {
     "data": {
      "text/html": [
       "<div>\n",
       "<style scoped>\n",
       "    .dataframe tbody tr th:only-of-type {\n",
       "        vertical-align: middle;\n",
       "    }\n",
       "\n",
       "    .dataframe tbody tr th {\n",
       "        vertical-align: top;\n",
       "    }\n",
       "\n",
       "    .dataframe thead th {\n",
       "        text-align: right;\n",
       "    }\n",
       "</style>\n",
       "<table border=\"1\" class=\"dataframe\">\n",
       "  <thead>\n",
       "    <tr style=\"text-align: right;\">\n",
       "      <th></th>\n",
       "      <th>Player Name</th>\n",
       "      <th>Season</th>\n",
       "      <th>Statistic</th>\n",
       "      <th>Variable</th>\n",
       "      <th>Value</th>\n",
       "    </tr>\n",
       "  </thead>\n",
       "  <tbody>\n",
       "    <tr>\n",
       "      <td>0</td>\n",
       "      <td>Robert Garrigus</td>\n",
       "      <td>2010</td>\n",
       "      <td>Driving Distance</td>\n",
       "      <td>Driving Distance - (ROUNDS)</td>\n",
       "      <td>71</td>\n",
       "    </tr>\n",
       "    <tr>\n",
       "      <td>1</td>\n",
       "      <td>Bubba Watson</td>\n",
       "      <td>2010</td>\n",
       "      <td>Driving Distance</td>\n",
       "      <td>Driving Distance - (ROUNDS)</td>\n",
       "      <td>77</td>\n",
       "    </tr>\n",
       "    <tr>\n",
       "      <td>2</td>\n",
       "      <td>Dustin Johnson</td>\n",
       "      <td>2010</td>\n",
       "      <td>Driving Distance</td>\n",
       "      <td>Driving Distance - (ROUNDS)</td>\n",
       "      <td>83</td>\n",
       "    </tr>\n",
       "    <tr>\n",
       "      <td>3</td>\n",
       "      <td>Brett Wetterich</td>\n",
       "      <td>2010</td>\n",
       "      <td>Driving Distance</td>\n",
       "      <td>Driving Distance - (ROUNDS)</td>\n",
       "      <td>54</td>\n",
       "    </tr>\n",
       "    <tr>\n",
       "      <td>4</td>\n",
       "      <td>J.B. Holmes</td>\n",
       "      <td>2010</td>\n",
       "      <td>Driving Distance</td>\n",
       "      <td>Driving Distance - (ROUNDS)</td>\n",
       "      <td>100</td>\n",
       "    </tr>\n",
       "  </tbody>\n",
       "</table>\n",
       "</div>"
      ],
      "text/plain": [
       "       Player Name  Season         Statistic                     Variable  \\\n",
       "0  Robert Garrigus    2010  Driving Distance  Driving Distance - (ROUNDS)   \n",
       "1     Bubba Watson    2010  Driving Distance  Driving Distance - (ROUNDS)   \n",
       "2   Dustin Johnson    2010  Driving Distance  Driving Distance - (ROUNDS)   \n",
       "3  Brett Wetterich    2010  Driving Distance  Driving Distance - (ROUNDS)   \n",
       "4      J.B. Holmes    2010  Driving Distance  Driving Distance - (ROUNDS)   \n",
       "\n",
       "  Value  \n",
       "0    71  \n",
       "1    77  \n",
       "2    83  \n",
       "3    54  \n",
       "4   100  "
      ]
     },
     "execution_count": 2,
     "metadata": {},
     "output_type": "execute_result"
    }
   ],
   "source": [
    "df_hist = pd.read_csv('/home/agnieszka/pga-tour-20102018-data/PGA_Data_Historical.csv')\n",
    "df_hist.head()"
   ]
  },
  {
   "cell_type": "markdown",
   "metadata": {},
   "source": [
    "## 1. Data preprocessing"
   ]
  },
  {
   "cell_type": "markdown",
   "metadata": {},
   "source": [
    "Find out whether each variable is associated with only one statistic:"
   ]
  },
  {
   "cell_type": "code",
   "execution_count": 3,
   "metadata": {},
   "outputs": [
    {
     "name": "stdout",
     "output_type": "stream",
     "text": [
      "Maximal number of unique values in column \"Statistic\" for one value in column \"Variable\": 1\n"
     ]
    }
   ],
   "source": [
    "print('Maximal number of unique values in column \"Statistic\" for one value in column \"Variable\": {}'\\\n",
    "      .format(df_hist.groupby(by='Variable')['Statistic'].nunique().max()))"
   ]
  },
  {
   "cell_type": "markdown",
   "metadata": {},
   "source": [
    "Thus, we can drop 'Statistic' column:"
   ]
  },
  {
   "cell_type": "code",
   "execution_count": 4,
   "metadata": {},
   "outputs": [],
   "source": [
    "df_hist = df_hist.drop('Statistic', axis=1)"
   ]
  },
  {
   "cell_type": "markdown",
   "metadata": {},
   "source": [
    "We want to change a form of our data to such, that have all variables as columns and each row store all player's results in one season. To do so, let us first check whether there are no duplicates in triples ('Player Name', 'Season', 'Variable'). If there are no duplicates, we set the triple as a new index in data frame."
   ]
  },
  {
   "cell_type": "code",
   "execution_count": 5,
   "metadata": {},
   "outputs": [
    {
     "name": "stdout",
     "output_type": "stream",
     "text": [
      "Number of duplicates: 0\n"
     ]
    }
   ],
   "source": [
    "num_dupl = df_hist.shape[0]-df_hist.drop_duplicates(subset=['Player Name', 'Season', 'Variable']).shape[0]\n",
    "print('Number of duplicates: {}'.format(num_dupl))"
   ]
  },
  {
   "cell_type": "markdown",
   "metadata": {},
   "source": [
    "Transform the data frame to desired form:"
   ]
  },
  {
   "cell_type": "code",
   "execution_count": 6,
   "metadata": {},
   "outputs": [
    {
     "data": {
      "text/html": [
       "<div>\n",
       "<style scoped>\n",
       "    .dataframe tbody tr th:only-of-type {\n",
       "        vertical-align: middle;\n",
       "    }\n",
       "\n",
       "    .dataframe tbody tr th {\n",
       "        vertical-align: top;\n",
       "    }\n",
       "\n",
       "    .dataframe thead th {\n",
       "        text-align: right;\n",
       "    }\n",
       "</style>\n",
       "<table border=\"1\" class=\"dataframe\">\n",
       "  <thead>\n",
       "    <tr style=\"text-align: right;\">\n",
       "      <th>Variable</th>\n",
       "      <th>Player Name</th>\n",
       "      <th>Season</th>\n",
       "      <th>% of Potential Pts won - FedExCup Playoffs - (# OF TOP 10'S)</th>\n",
       "      <th>% of Potential Pts won - FedExCup Playoffs - (# OF WINS)</th>\n",
       "      <th>% of Potential Pts won - FedExCup Playoffs - (%)</th>\n",
       "      <th>% of Potential Pts won - FedExCup Playoffs - (EVENTS)</th>\n",
       "      <th>% of Potential Pts won - FedExCup Playoffs - (PLAYOFF POINTS WON)</th>\n",
       "      <th>% of Potential Pts won - FedExCup Playoffs - (POTENTIAL PTS)</th>\n",
       "      <th>% of Potential Pts won - FedExCup Regular Season - (# OF TOP 10'S)</th>\n",
       "      <th>% of Potential Pts won - FedExCup Regular Season - (# OF WINS)</th>\n",
       "      <th>...</th>\n",
       "      <th>Total Money (Official and Unofficial) - (EVENTS)</th>\n",
       "      <th>Total Money (Official and Unofficial) - (MONEY)</th>\n",
       "      <th>Total Putting - (EVENTS)</th>\n",
       "      <th>Total Putting - (TOTAL)</th>\n",
       "      <th>Victory Leaders - (EVENTS)</th>\n",
       "      <th>Victory Leaders - (VICTORIES)</th>\n",
       "      <th>World Golf Ranking Points - (EVENTS)</th>\n",
       "      <th>World Golf Ranking Points - (POINTS)</th>\n",
       "      <th>World Money List - (EVENTS)</th>\n",
       "      <th>World Money List - (MONEY)</th>\n",
       "    </tr>\n",
       "  </thead>\n",
       "  <tbody>\n",
       "    <tr>\n",
       "      <td>0</td>\n",
       "      <td>A.J. McInerney</td>\n",
       "      <td>2018</td>\n",
       "      <td>NaN</td>\n",
       "      <td>NaN</td>\n",
       "      <td>NaN</td>\n",
       "      <td>NaN</td>\n",
       "      <td>NaN</td>\n",
       "      <td>NaN</td>\n",
       "      <td>NaN</td>\n",
       "      <td>NaN</td>\n",
       "      <td>...</td>\n",
       "      <td>4</td>\n",
       "      <td>$164,923</td>\n",
       "      <td>NaN</td>\n",
       "      <td>NaN</td>\n",
       "      <td>4</td>\n",
       "      <td>NaN</td>\n",
       "      <td>NaN</td>\n",
       "      <td>NaN</td>\n",
       "      <td>NaN</td>\n",
       "      <td>NaN</td>\n",
       "    </tr>\n",
       "    <tr>\n",
       "      <td>1</td>\n",
       "      <td>Aaron Baddeley</td>\n",
       "      <td>2010</td>\n",
       "      <td>NaN</td>\n",
       "      <td>NaN</td>\n",
       "      <td>1.55</td>\n",
       "      <td>26</td>\n",
       "      <td>78</td>\n",
       "      <td>5,000</td>\n",
       "      <td>1</td>\n",
       "      <td>NaN</td>\n",
       "      <td>...</td>\n",
       "      <td>26</td>\n",
       "      <td>879,317</td>\n",
       "      <td>26</td>\n",
       "      <td>92.4</td>\n",
       "      <td>26</td>\n",
       "      <td>NaN</td>\n",
       "      <td>26</td>\n",
       "      <td>30</td>\n",
       "      <td>27</td>\n",
       "      <td>879,317</td>\n",
       "    </tr>\n",
       "    <tr>\n",
       "      <td>2</td>\n",
       "      <td>Aaron Baddeley</td>\n",
       "      <td>2011</td>\n",
       "      <td>1</td>\n",
       "      <td>NaN</td>\n",
       "      <td>12.78</td>\n",
       "      <td>22</td>\n",
       "      <td>1,278</td>\n",
       "      <td>10,000</td>\n",
       "      <td>4</td>\n",
       "      <td>1</td>\n",
       "      <td>...</td>\n",
       "      <td>24</td>\n",
       "      <td>$3,157,193</td>\n",
       "      <td>22</td>\n",
       "      <td>106.8</td>\n",
       "      <td>22</td>\n",
       "      <td>1</td>\n",
       "      <td>22</td>\n",
       "      <td>155</td>\n",
       "      <td>26</td>\n",
       "      <td>$3,321,105</td>\n",
       "    </tr>\n",
       "    <tr>\n",
       "      <td>3</td>\n",
       "      <td>Aaron Baddeley</td>\n",
       "      <td>2012</td>\n",
       "      <td>NaN</td>\n",
       "      <td>NaN</td>\n",
       "      <td>2.70</td>\n",
       "      <td>22</td>\n",
       "      <td>135</td>\n",
       "      <td>5,000</td>\n",
       "      <td>3</td>\n",
       "      <td>NaN</td>\n",
       "      <td>...</td>\n",
       "      <td>22</td>\n",
       "      <td>$1,215,753</td>\n",
       "      <td>22</td>\n",
       "      <td>116.2</td>\n",
       "      <td>22</td>\n",
       "      <td>NaN</td>\n",
       "      <td>22</td>\n",
       "      <td>66</td>\n",
       "      <td>NaN</td>\n",
       "      <td>NaN</td>\n",
       "    </tr>\n",
       "    <tr>\n",
       "      <td>4</td>\n",
       "      <td>Aaron Baddeley</td>\n",
       "      <td>2013</td>\n",
       "      <td>NaN</td>\n",
       "      <td>NaN</td>\n",
       "      <td>5.00</td>\n",
       "      <td>24</td>\n",
       "      <td>125</td>\n",
       "      <td>2,500</td>\n",
       "      <td>2</td>\n",
       "      <td>NaN</td>\n",
       "      <td>...</td>\n",
       "      <td>24</td>\n",
       "      <td>$721,024</td>\n",
       "      <td>24</td>\n",
       "      <td>106.1</td>\n",
       "      <td>24</td>\n",
       "      <td>NaN</td>\n",
       "      <td>24</td>\n",
       "      <td>31</td>\n",
       "      <td>NaN</td>\n",
       "      <td>NaN</td>\n",
       "    </tr>\n",
       "  </tbody>\n",
       "</table>\n",
       "<p>5 rows × 2083 columns</p>\n",
       "</div>"
      ],
      "text/plain": [
       "Variable     Player Name  Season  \\\n",
       "0         A.J. McInerney    2018   \n",
       "1         Aaron Baddeley    2010   \n",
       "2         Aaron Baddeley    2011   \n",
       "3         Aaron Baddeley    2012   \n",
       "4         Aaron Baddeley    2013   \n",
       "\n",
       "Variable % of Potential Pts won - FedExCup Playoffs - (# OF TOP 10'S)  \\\n",
       "0                                                       NaN             \n",
       "1                                                       NaN             \n",
       "2                                                         1             \n",
       "3                                                       NaN             \n",
       "4                                                       NaN             \n",
       "\n",
       "Variable % of Potential Pts won - FedExCup Playoffs - (# OF WINS)  \\\n",
       "0                                                       NaN         \n",
       "1                                                       NaN         \n",
       "2                                                       NaN         \n",
       "3                                                       NaN         \n",
       "4                                                       NaN         \n",
       "\n",
       "Variable % of Potential Pts won - FedExCup Playoffs - (%)  \\\n",
       "0                                                     NaN   \n",
       "1                                                    1.55   \n",
       "2                                                   12.78   \n",
       "3                                                    2.70   \n",
       "4                                                    5.00   \n",
       "\n",
       "Variable % of Potential Pts won - FedExCup Playoffs - (EVENTS)  \\\n",
       "0                                                       NaN      \n",
       "1                                                        26      \n",
       "2                                                        22      \n",
       "3                                                        22      \n",
       "4                                                        24      \n",
       "\n",
       "Variable % of Potential Pts won - FedExCup Playoffs - (PLAYOFF POINTS WON)  \\\n",
       "0                                                       NaN                  \n",
       "1                                                        78                  \n",
       "2                                                     1,278                  \n",
       "3                                                       135                  \n",
       "4                                                       125                  \n",
       "\n",
       "Variable % of Potential Pts won - FedExCup Playoffs - (POTENTIAL PTS)  \\\n",
       "0                                                       NaN             \n",
       "1                                                     5,000             \n",
       "2                                                    10,000             \n",
       "3                                                     5,000             \n",
       "4                                                     2,500             \n",
       "\n",
       "Variable % of Potential Pts won - FedExCup Regular Season - (# OF TOP 10'S)  \\\n",
       "0                                                       NaN                   \n",
       "1                                                         1                   \n",
       "2                                                         4                   \n",
       "3                                                         3                   \n",
       "4                                                         2                   \n",
       "\n",
       "Variable % of Potential Pts won - FedExCup Regular Season - (# OF WINS)  ...  \\\n",
       "0                                                       NaN              ...   \n",
       "1                                                       NaN              ...   \n",
       "2                                                         1              ...   \n",
       "3                                                       NaN              ...   \n",
       "4                                                       NaN              ...   \n",
       "\n",
       "Variable Total Money (Official and Unofficial) - (EVENTS)  \\\n",
       "0                                                       4   \n",
       "1                                                      26   \n",
       "2                                                      24   \n",
       "3                                                      22   \n",
       "4                                                      24   \n",
       "\n",
       "Variable Total Money (Official and Unofficial) - (MONEY)  \\\n",
       "0                                               $164,923   \n",
       "1                                                879,317   \n",
       "2                                             $3,157,193   \n",
       "3                                             $1,215,753   \n",
       "4                                               $721,024   \n",
       "\n",
       "Variable Total Putting - (EVENTS) Total Putting - (TOTAL)  \\\n",
       "0                             NaN                     NaN   \n",
       "1                              26                    92.4   \n",
       "2                              22                   106.8   \n",
       "3                              22                   116.2   \n",
       "4                              24                   106.1   \n",
       "\n",
       "Variable Victory Leaders - (EVENTS) Victory Leaders - (VICTORIES)  \\\n",
       "0                                 4                           NaN   \n",
       "1                                26                           NaN   \n",
       "2                                22                             1   \n",
       "3                                22                           NaN   \n",
       "4                                24                           NaN   \n",
       "\n",
       "Variable World Golf Ranking Points - (EVENTS)  \\\n",
       "0                                         NaN   \n",
       "1                                          26   \n",
       "2                                          22   \n",
       "3                                          22   \n",
       "4                                          24   \n",
       "\n",
       "Variable World Golf Ranking Points - (POINTS) World Money List - (EVENTS)  \\\n",
       "0                                         NaN                         NaN   \n",
       "1                                          30                          27   \n",
       "2                                         155                          26   \n",
       "3                                          66                         NaN   \n",
       "4                                          31                         NaN   \n",
       "\n",
       "Variable World Money List - (MONEY)  \n",
       "0                               NaN  \n",
       "1                           879,317  \n",
       "2                        $3,321,105  \n",
       "3                               NaN  \n",
       "4                               NaN  \n",
       "\n",
       "[5 rows x 2083 columns]"
      ]
     },
     "execution_count": 6,
     "metadata": {},
     "output_type": "execute_result"
    }
   ],
   "source": [
    "df_hist = df_hist.set_index(['Player Name', 'Variable', 'Season'])['Value'].unstack('Variable').reset_index()\n",
    "df_hist.head()"
   ]
  },
  {
   "cell_type": "code",
   "execution_count": 7,
   "metadata": {},
   "outputs": [
    {
     "name": "stdout",
     "output_type": "stream",
     "text": [
      "<class 'pandas.core.frame.DataFrame'>\n",
      "RangeIndex: 11223 entries, 0 to 11222\n",
      "Columns: 2083 entries, Player Name to World Money List - (MONEY)\n",
      "dtypes: int64(1), object(2082)\n",
      "memory usage: 178.4+ MB\n"
     ]
    }
   ],
   "source": [
    "df_hist.info()"
   ]
  },
  {
   "cell_type": "markdown",
   "metadata": {},
   "source": [
    "We can see that almost all columns are of type 'object' (string). We want them to be of numerical type (since clustering methods use distance function). We start with removing or replacing problematic characters"
   ]
  },
  {
   "cell_type": "code",
   "execution_count": 8,
   "metadata": {},
   "outputs": [],
   "source": [
    "df_hist = df_hist.replace(regex=['\\$|,|\\+|\\s','\\-\\.','^\\.'], value=['','-0.','0.']).replace('E','nan')"
   ]
  },
  {
   "cell_type": "markdown",
   "metadata": {},
   "source": [
    "Now let us try to convert columns to 'float' type. "
   ]
  },
  {
   "cell_type": "code",
   "execution_count": 9,
   "metadata": {},
   "outputs": [],
   "source": [
    "col_fail=[]\n",
    "\n",
    "for col in df_hist.columns:\n",
    "    try:\n",
    "        df_hist[col]=df_hist[col].astype('float')\n",
    "    except:\n",
    "        col_fail.append(col)"
   ]
  },
  {
   "cell_type": "markdown",
   "metadata": {},
   "source": [
    "See where we failed:"
   ]
  },
  {
   "cell_type": "code",
   "execution_count": 10,
   "metadata": {},
   "outputs": [
    {
     "data": {
      "text/html": [
       "<div>\n",
       "<style scoped>\n",
       "    .dataframe tbody tr th:only-of-type {\n",
       "        vertical-align: middle;\n",
       "    }\n",
       "\n",
       "    .dataframe tbody tr th {\n",
       "        vertical-align: top;\n",
       "    }\n",
       "\n",
       "    .dataframe thead th {\n",
       "        text-align: right;\n",
       "    }\n",
       "</style>\n",
       "<table border=\"1\" class=\"dataframe\">\n",
       "  <thead>\n",
       "    <tr style=\"text-align: right;\">\n",
       "      <th>Variable</th>\n",
       "      <th>Player Name</th>\n",
       "      <th>Apex Height - (AVG.)</th>\n",
       "      <th>Apex Height - (HIGHEST APEX POINT)</th>\n",
       "      <th>Apex Height - (LOWEST APEX POINT)</th>\n",
       "      <th>Apex Height - (TOTAL APEX HEIGHT)</th>\n",
       "      <th>Approach Putt Performance - (VALUE)</th>\n",
       "      <th>Approaches from 100-125 yards (Rgh) - (AVG)</th>\n",
       "      <th>Approaches from 100-125 yards - (AVG)</th>\n",
       "      <th>Approaches from 125-150 yards (Rgh) - (AVG)</th>\n",
       "      <th>Approaches from 125-150 yards - (AVG)</th>\n",
       "      <th>...</th>\n",
       "      <th>Proximity to Hole from 30+ yards - (AVG DTP)</th>\n",
       "      <th>Proximity to Hole from &lt; 10 yards - (AVG DTP)</th>\n",
       "      <th>Proximity to Hole from Fringe - (AVG DTP)</th>\n",
       "      <th>Proximity to Hole from Other Locations - (AVG DTP)</th>\n",
       "      <th>Proximity to Hole from Rough - (AVG DTP)</th>\n",
       "      <th>Proximity to Hole from Sand - (AVG DTP)</th>\n",
       "      <th>Putting Average - (GIR RANK)</th>\n",
       "      <th>Right Rough Proximity - (AVG)</th>\n",
       "      <th>Rough Proximity - (AVG)</th>\n",
       "      <th>Scrambling Average Distance to Hole - (AVG DTP)</th>\n",
       "    </tr>\n",
       "  </thead>\n",
       "  <tbody>\n",
       "    <tr>\n",
       "      <td>0</td>\n",
       "      <td>A.J.McInerney</td>\n",
       "      <td>NaN</td>\n",
       "      <td>NaN</td>\n",
       "      <td>NaN</td>\n",
       "      <td>NaN</td>\n",
       "      <td>NaN</td>\n",
       "      <td>NaN</td>\n",
       "      <td>NaN</td>\n",
       "      <td>NaN</td>\n",
       "      <td>NaN</td>\n",
       "      <td>...</td>\n",
       "      <td>NaN</td>\n",
       "      <td>NaN</td>\n",
       "      <td>NaN</td>\n",
       "      <td>NaN</td>\n",
       "      <td>NaN</td>\n",
       "      <td>NaN</td>\n",
       "      <td>NaN</td>\n",
       "      <td>NaN</td>\n",
       "      <td>NaN</td>\n",
       "      <td>NaN</td>\n",
       "    </tr>\n",
       "    <tr>\n",
       "      <td>1</td>\n",
       "      <td>AaronBaddeley</td>\n",
       "      <td>100'1\"</td>\n",
       "      <td>152'0\"</td>\n",
       "      <td>64'7\"</td>\n",
       "      <td>7703'8\"</td>\n",
       "      <td>2'4\"</td>\n",
       "      <td>38'8\"</td>\n",
       "      <td>20'4\"</td>\n",
       "      <td>33'3\"</td>\n",
       "      <td>25'5\"</td>\n",
       "      <td>...</td>\n",
       "      <td>10'10\"</td>\n",
       "      <td>3'3\"</td>\n",
       "      <td>2'7\"</td>\n",
       "      <td>6'9\"</td>\n",
       "      <td>8'5\"</td>\n",
       "      <td>8'0\"</td>\n",
       "      <td>164</td>\n",
       "      <td>46'2\"</td>\n",
       "      <td>44'9\"</td>\n",
       "      <td>8'7\"</td>\n",
       "    </tr>\n",
       "    <tr>\n",
       "      <td>2</td>\n",
       "      <td>AaronBaddeley</td>\n",
       "      <td>94'1\"</td>\n",
       "      <td>144'11\"</td>\n",
       "      <td>63'10\"</td>\n",
       "      <td>5175'5\"</td>\n",
       "      <td>2'3\"</td>\n",
       "      <td>24'8\"</td>\n",
       "      <td>19'11\"</td>\n",
       "      <td>35'11\"</td>\n",
       "      <td>21'11\"</td>\n",
       "      <td>...</td>\n",
       "      <td>11'6\"</td>\n",
       "      <td>2'11\"</td>\n",
       "      <td>2'6\"</td>\n",
       "      <td>5'9\"</td>\n",
       "      <td>8'1\"</td>\n",
       "      <td>8'8\"</td>\n",
       "      <td>T97</td>\n",
       "      <td>42'0\"</td>\n",
       "      <td>42'5\"</td>\n",
       "      <td>8'6\"</td>\n",
       "    </tr>\n",
       "    <tr>\n",
       "      <td>3</td>\n",
       "      <td>AaronBaddeley</td>\n",
       "      <td>97'2\"</td>\n",
       "      <td>126'5\"</td>\n",
       "      <td>58'0\"</td>\n",
       "      <td>4662'1\"</td>\n",
       "      <td>2'4\"</td>\n",
       "      <td>36'0\"</td>\n",
       "      <td>22'3\"</td>\n",
       "      <td>34'6\"</td>\n",
       "      <td>25'3\"</td>\n",
       "      <td>...</td>\n",
       "      <td>12'6\"</td>\n",
       "      <td>3'4\"</td>\n",
       "      <td>3'2\"</td>\n",
       "      <td>7'0\"</td>\n",
       "      <td>8'2\"</td>\n",
       "      <td>7'5\"</td>\n",
       "      <td>190</td>\n",
       "      <td>45'0\"</td>\n",
       "      <td>44'7\"</td>\n",
       "      <td>8'2\"</td>\n",
       "    </tr>\n",
       "    <tr>\n",
       "      <td>4</td>\n",
       "      <td>AaronBaddeley</td>\n",
       "      <td>92'1\"</td>\n",
       "      <td>127'7\"</td>\n",
       "      <td>51'3\"</td>\n",
       "      <td>4328'5\"</td>\n",
       "      <td>2'2\"</td>\n",
       "      <td>37'2\"</td>\n",
       "      <td>21'1\"</td>\n",
       "      <td>35'1\"</td>\n",
       "      <td>25'1\"</td>\n",
       "      <td>...</td>\n",
       "      <td>12'9\"</td>\n",
       "      <td>3'1\"</td>\n",
       "      <td>2'0\"</td>\n",
       "      <td>6'1\"</td>\n",
       "      <td>7'10\"</td>\n",
       "      <td>10'2\"</td>\n",
       "      <td>178</td>\n",
       "      <td>45'0\"</td>\n",
       "      <td>45'7\"</td>\n",
       "      <td>8'8\"</td>\n",
       "    </tr>\n",
       "  </tbody>\n",
       "</table>\n",
       "<p>5 rows × 74 columns</p>\n",
       "</div>"
      ],
      "text/plain": [
       "Variable    Player Name Apex Height - (AVG.)  \\\n",
       "0         A.J.McInerney                  NaN   \n",
       "1         AaronBaddeley               100'1\"   \n",
       "2         AaronBaddeley                94'1\"   \n",
       "3         AaronBaddeley                97'2\"   \n",
       "4         AaronBaddeley                92'1\"   \n",
       "\n",
       "Variable Apex Height - (HIGHEST APEX POINT) Apex Height - (LOWEST APEX POINT)  \\\n",
       "0                                       NaN                               NaN   \n",
       "1                                    152'0\"                             64'7\"   \n",
       "2                                   144'11\"                            63'10\"   \n",
       "3                                    126'5\"                             58'0\"   \n",
       "4                                    127'7\"                             51'3\"   \n",
       "\n",
       "Variable Apex Height - (TOTAL APEX HEIGHT)  \\\n",
       "0                                      NaN   \n",
       "1                                  7703'8\"   \n",
       "2                                  5175'5\"   \n",
       "3                                  4662'1\"   \n",
       "4                                  4328'5\"   \n",
       "\n",
       "Variable Approach Putt Performance - (VALUE)  \\\n",
       "0                                        NaN   \n",
       "1                                       2'4\"   \n",
       "2                                       2'3\"   \n",
       "3                                       2'4\"   \n",
       "4                                       2'2\"   \n",
       "\n",
       "Variable Approaches from 100-125 yards (Rgh) - (AVG)  \\\n",
       "0                                                NaN   \n",
       "1                                              38'8\"   \n",
       "2                                              24'8\"   \n",
       "3                                              36'0\"   \n",
       "4                                              37'2\"   \n",
       "\n",
       "Variable Approaches from 100-125 yards - (AVG)  \\\n",
       "0                                          NaN   \n",
       "1                                        20'4\"   \n",
       "2                                       19'11\"   \n",
       "3                                        22'3\"   \n",
       "4                                        21'1\"   \n",
       "\n",
       "Variable Approaches from 125-150 yards (Rgh) - (AVG)  \\\n",
       "0                                                NaN   \n",
       "1                                              33'3\"   \n",
       "2                                             35'11\"   \n",
       "3                                              34'6\"   \n",
       "4                                              35'1\"   \n",
       "\n",
       "Variable Approaches from 125-150 yards - (AVG)  ...  \\\n",
       "0                                          NaN  ...   \n",
       "1                                        25'5\"  ...   \n",
       "2                                       21'11\"  ...   \n",
       "3                                        25'3\"  ...   \n",
       "4                                        25'1\"  ...   \n",
       "\n",
       "Variable Proximity to Hole from 30+ yards - (AVG DTP)  \\\n",
       "0                                                 NaN   \n",
       "1                                              10'10\"   \n",
       "2                                               11'6\"   \n",
       "3                                               12'6\"   \n",
       "4                                               12'9\"   \n",
       "\n",
       "Variable Proximity to Hole from < 10 yards - (AVG DTP)  \\\n",
       "0                                                  NaN   \n",
       "1                                                 3'3\"   \n",
       "2                                                2'11\"   \n",
       "3                                                 3'4\"   \n",
       "4                                                 3'1\"   \n",
       "\n",
       "Variable Proximity to Hole from Fringe - (AVG DTP)  \\\n",
       "0                                              NaN   \n",
       "1                                             2'7\"   \n",
       "2                                             2'6\"   \n",
       "3                                             3'2\"   \n",
       "4                                             2'0\"   \n",
       "\n",
       "Variable Proximity to Hole from Other Locations - (AVG DTP)  \\\n",
       "0                                                       NaN   \n",
       "1                                                      6'9\"   \n",
       "2                                                      5'9\"   \n",
       "3                                                      7'0\"   \n",
       "4                                                      6'1\"   \n",
       "\n",
       "Variable Proximity to Hole from Rough - (AVG DTP)  \\\n",
       "0                                             NaN   \n",
       "1                                            8'5\"   \n",
       "2                                            8'1\"   \n",
       "3                                            8'2\"   \n",
       "4                                           7'10\"   \n",
       "\n",
       "Variable Proximity to Hole from Sand - (AVG DTP) Putting Average - (GIR RANK)  \\\n",
       "0                                            NaN                          NaN   \n",
       "1                                           8'0\"                          164   \n",
       "2                                           8'8\"                          T97   \n",
       "3                                           7'5\"                          190   \n",
       "4                                          10'2\"                          178   \n",
       "\n",
       "Variable Right Rough Proximity - (AVG) Rough Proximity - (AVG)  \\\n",
       "0                                  NaN                     NaN   \n",
       "1                                46'2\"                   44'9\"   \n",
       "2                                42'0\"                   42'5\"   \n",
       "3                                45'0\"                   44'7\"   \n",
       "4                                45'0\"                   45'7\"   \n",
       "\n",
       "Variable Scrambling Average Distance to Hole - (AVG DTP)  \n",
       "0                                                    NaN  \n",
       "1                                                   8'7\"  \n",
       "2                                                   8'6\"  \n",
       "3                                                   8'2\"  \n",
       "4                                                   8'8\"  \n",
       "\n",
       "[5 rows x 74 columns]"
      ]
     },
     "execution_count": 10,
     "metadata": {},
     "output_type": "execute_result"
    }
   ],
   "source": [
    "df_hist[col_fail].head()"
   ]
  },
  {
   "cell_type": "markdown",
   "metadata": {},
   "source": [
    "Convert feet and inches to feets:"
   ]
  },
  {
   "cell_type": "code",
   "execution_count": 11,
   "metadata": {},
   "outputs": [],
   "source": [
    "def to_feet(s):\n",
    "    if re.match('\\d+\\'\\d+\\\"', s):\n",
    "        return int(re.findall('(\\d+)', s)[0])+int(re.findall('(\\d+)', s)[1])/12\n",
    "    elif re.match(\"\\d+\\'\", s):\n",
    "        return int(re.findall('(\\d+)', s)[0])\n",
    "    elif re.match('\\d+\\\"', s):\n",
    "        return int(re.findall('(\\d+)', s)[0])/12\n",
    "    else:\n",
    "        return s\n",
    "    \n",
    "for c in col_fail:\n",
    "    df_hist[c] = df_hist[c].astype('str').apply(to_feet) "
   ]
  },
  {
   "cell_type": "markdown",
   "metadata": {},
   "source": [
    "Again, let us try to convert values to floats and see for which columns we fail: "
   ]
  },
  {
   "cell_type": "code",
   "execution_count": 12,
   "metadata": {},
   "outputs": [
    {
     "data": {
      "text/html": [
       "<div>\n",
       "<style scoped>\n",
       "    .dataframe tbody tr th:only-of-type {\n",
       "        vertical-align: middle;\n",
       "    }\n",
       "\n",
       "    .dataframe tbody tr th {\n",
       "        vertical-align: top;\n",
       "    }\n",
       "\n",
       "    .dataframe thead th {\n",
       "        text-align: right;\n",
       "    }\n",
       "</style>\n",
       "<table border=\"1\" class=\"dataframe\">\n",
       "  <thead>\n",
       "    <tr style=\"text-align: right;\">\n",
       "      <th>Variable</th>\n",
       "      <th>Player Name</th>\n",
       "      <th>Going for the Green - Hit Green Pct. - (RTP-NOT GOING FOR THE GRN)</th>\n",
       "      <th>Longest Drives - (TOURNAMENT)</th>\n",
       "      <th>Longest Hole Outs (in yards) - (TOURNAMENT)</th>\n",
       "      <th>Longest Putts - (YEAR/TOURN#)</th>\n",
       "      <th>Lowest Round - (TOURN/COURSE)</th>\n",
       "      <th>Official World Golf Ranking - (COUNTRY)</th>\n",
       "      <th>Putting Average - (GIR RANK)</th>\n",
       "    </tr>\n",
       "  </thead>\n",
       "  <tbody>\n",
       "    <tr>\n",
       "      <td>0</td>\n",
       "      <td>A.J.McInerney</td>\n",
       "      <td>nan</td>\n",
       "      <td>nan</td>\n",
       "      <td>nan</td>\n",
       "      <td>nan</td>\n",
       "      <td>ShrinersHosp/T</td>\n",
       "      <td>nan</td>\n",
       "      <td>nan</td>\n",
       "    </tr>\n",
       "    <tr>\n",
       "      <td>1</td>\n",
       "      <td>AaronBaddeley</td>\n",
       "      <td>48Under</td>\n",
       "      <td>nan</td>\n",
       "      <td>WyndhamChampionship</td>\n",
       "      <td>TheGreenbrierClassic</td>\n",
       "      <td>J.Timberlake/T</td>\n",
       "      <td>AUS</td>\n",
       "      <td>164</td>\n",
       "    </tr>\n",
       "    <tr>\n",
       "      <td>2</td>\n",
       "      <td>AaronBaddeley</td>\n",
       "      <td>36Under</td>\n",
       "      <td>nan</td>\n",
       "      <td>TOURChampionshipbyCoca-Cola</td>\n",
       "      <td>nan</td>\n",
       "      <td>TOURChamp/East</td>\n",
       "      <td>AUS</td>\n",
       "      <td>T97</td>\n",
       "    </tr>\n",
       "    <tr>\n",
       "      <td>3</td>\n",
       "      <td>AaronBaddeley</td>\n",
       "      <td>26Under</td>\n",
       "      <td>HyundaiTournamentofChampions</td>\n",
       "      <td>nan</td>\n",
       "      <td>nan</td>\n",
       "      <td>WGC-Bridgestone</td>\n",
       "      <td>AUS</td>\n",
       "      <td>190</td>\n",
       "    </tr>\n",
       "    <tr>\n",
       "      <td>4</td>\n",
       "      <td>AaronBaddeley</td>\n",
       "      <td>24Under</td>\n",
       "      <td>nan</td>\n",
       "      <td>TheBarclays</td>\n",
       "      <td>ShellHoustonOpen</td>\n",
       "      <td>Humana/PGAWest</td>\n",
       "      <td>AUS</td>\n",
       "      <td>178</td>\n",
       "    </tr>\n",
       "  </tbody>\n",
       "</table>\n",
       "</div>"
      ],
      "text/plain": [
       "Variable    Player Name  \\\n",
       "0         A.J.McInerney   \n",
       "1         AaronBaddeley   \n",
       "2         AaronBaddeley   \n",
       "3         AaronBaddeley   \n",
       "4         AaronBaddeley   \n",
       "\n",
       "Variable Going for the Green - Hit Green Pct. - (RTP-NOT GOING FOR THE GRN)  \\\n",
       "0                                                       nan                   \n",
       "1                                                   48Under                   \n",
       "2                                                   36Under                   \n",
       "3                                                   26Under                   \n",
       "4                                                   24Under                   \n",
       "\n",
       "Variable Longest Drives - (TOURNAMENT)  \\\n",
       "0                                  nan   \n",
       "1                                  nan   \n",
       "2                                  nan   \n",
       "3         HyundaiTournamentofChampions   \n",
       "4                                  nan   \n",
       "\n",
       "Variable Longest Hole Outs (in yards) - (TOURNAMENT)  \\\n",
       "0                                                nan   \n",
       "1                                WyndhamChampionship   \n",
       "2                        TOURChampionshipbyCoca-Cola   \n",
       "3                                                nan   \n",
       "4                                        TheBarclays   \n",
       "\n",
       "Variable Longest Putts - (YEAR/TOURN#) Lowest Round - (TOURN/COURSE)  \\\n",
       "0                                  nan                ShrinersHosp/T   \n",
       "1                 TheGreenbrierClassic                J.Timberlake/T   \n",
       "2                                  nan                TOURChamp/East   \n",
       "3                                  nan               WGC-Bridgestone   \n",
       "4                     ShellHoustonOpen                Humana/PGAWest   \n",
       "\n",
       "Variable Official World Golf Ranking - (COUNTRY) Putting Average - (GIR RANK)  \n",
       "0                                            nan                          nan  \n",
       "1                                            AUS                          164  \n",
       "2                                            AUS                          T97  \n",
       "3                                            AUS                          190  \n",
       "4                                            AUS                          178  "
      ]
     },
     "execution_count": 12,
     "metadata": {},
     "output_type": "execute_result"
    }
   ],
   "source": [
    "col_fail_2=[]\n",
    "\n",
    "for col in col_fail:\n",
    "    try:\n",
    "        df_hist[col]=df_hist[col].astype('float')\n",
    "    except:\n",
    "        col_fail_2.append(col)\n",
    "\n",
    "df_hist[col_fail_2].head()"
   ]
  },
  {
   "cell_type": "markdown",
   "metadata": {},
   "source": [
    "Above columns are non-numerical, thus we drop them in our analysis (except 'Player Name')."
   ]
  },
  {
   "cell_type": "code",
   "execution_count": 13,
   "metadata": {},
   "outputs": [],
   "source": [
    "df_hist = df_hist.drop([c for c in col_fail_2 if c!='Player Name'], axis=1)"
   ]
  },
  {
   "cell_type": "code",
   "execution_count": 14,
   "metadata": {},
   "outputs": [
    {
     "name": "stdout",
     "output_type": "stream",
     "text": [
      "<class 'pandas.core.frame.DataFrame'>\n",
      "RangeIndex: 11223 entries, 0 to 11222\n",
      "Columns: 2076 entries, Player Name to World Money List - (MONEY)\n",
      "dtypes: float64(2075), object(1)\n",
      "memory usage: 177.8+ MB\n"
     ]
    }
   ],
   "source": [
    "df_hist.info()"
   ]
  },
  {
   "cell_type": "markdown",
   "metadata": {},
   "source": [
    "Now, let us look closer at 'NaN' values in our data frame."
   ]
  },
  {
   "cell_type": "code",
   "execution_count": 15,
   "metadata": {},
   "outputs": [
    {
     "name": "stdout",
     "output_type": "stream",
     "text": [
      "Number of 'NaN' values: 20609660 \n",
      "Fraction of 'NaN' values: 0.88\n"
     ]
    }
   ],
   "source": [
    "nan_s = df_hist.isna().sum().sum()\n",
    "nan_p_c = df_hist.isna().mean()\n",
    "nan_p = nan_p_c.mean()\n",
    "print(\"Number of 'NaN' values: {nan_s} \\nFraction of 'NaN' values: {nan_p}\"\\\n",
    "      .format(nan_s=nan_s, nan_p=round(nan_p, 2)))"
   ]
  },
  {
   "cell_type": "code",
   "execution_count": 16,
   "metadata": {},
   "outputs": [
    {
     "name": "stdout",
     "output_type": "stream",
     "text": [
      "Fraction of 'NaN' values per column:\n",
      "\n",
      " Variable\n",
      "Player Name                                                               0.000000\n",
      "Season                                                                    0.000000\n",
      "Official World Golf Ranking - (AVG POINTS)                                0.203689\n",
      "Official World Golf Ranking - (EVENTS)                                    0.203689\n",
      "Official World Golf Ranking - (TOTAL POINTS)                              0.203689\n",
      "                                                                            ...   \n",
      "Distance Analysis 140-150 yards - 5 Iron - (TOTAL ATTEMPTS WITH CLUB)     0.999911\n",
      "Distance Analysis 210-220 yards - 8 Iron - (ROUNDS)                       0.999911\n",
      "Distance Analysis 240-260 yards - 8 Iron - (TOTAL ATTEMPTS DIST RANGE)    0.999911\n",
      "Distance Analysis 120-130 yards - 6 Iron - (TOTAL ATTEMPTS DIST RANGE)    0.999911\n",
      "FedExCup Season Points - (RESET POINTS)                                   1.000000\n",
      "Length: 2076, dtype: float64\n"
     ]
    }
   ],
   "source": [
    "print(\"Fraction of 'NaN' values per column:\\n\\n {}\".format(nan_p_c.sort_values()))"
   ]
  },
  {
   "cell_type": "code",
   "execution_count": 17,
   "metadata": {},
   "outputs": [
    {
     "name": "stdout",
     "output_type": "stream",
     "text": [
      "Number of columns with \"NaN\" fraction below 0.5: 8 \n",
      "Number of columns with \"NaN\" fraction below 0.7: 50\n"
     ]
    }
   ],
   "source": [
    "print('Number of columns with \"NaN\" fraction below 0.5: {n1} \\nNumber of columns with \"NaN\" fraction below 0.7: {n2}'\\\n",
    "      .format(n1=nan_p_c[nan_p_c<0.5].count(), n2=nan_p_c[nan_p_c<0.7].count()))"
   ]
  },
  {
   "cell_type": "markdown",
   "metadata": {},
   "source": [
    "We can see that we have a big problem with missing values in the data set. One of the solution is to fill 'NaN's with means or medians of columns (I prefer median). In this case it will lead to situation where most of the data are artifitial. We will try this aproach.\n",
    "\n",
    "Another idea to perform clustering on such data set is to use alternation of K-Means algorithm where distance between two data points is calculated using only common given coordinates."
   ]
  },
  {
   "cell_type": "code",
   "execution_count": 18,
   "metadata": {},
   "outputs": [
    {
     "name": "stderr",
     "output_type": "stream",
     "text": [
      "/home/agnieszka/daft_env/lib/python3.6/site-packages/numpy/lib/nanfunctions.py:1112: RuntimeWarning: Mean of empty slice\n",
      "  return np.nanmean(a, axis, out=out, keepdims=keepdims)\n",
      "/home/agnieszka/daft_env/lib/python3.6/site-packages/numpy/lib/nanfunctions.py:994: RuntimeWarning: All-NaN slice encountered\n",
      "  result = np.apply_along_axis(_nanmedian1d, axis, a, overwrite_input)\n"
     ]
    }
   ],
   "source": [
    "df = df_hist.fillna(df_hist.median())"
   ]
  },
  {
   "cell_type": "markdown",
   "metadata": {},
   "source": [
    "Check whether there any 'NaN's left:"
   ]
  },
  {
   "cell_type": "code",
   "execution_count": 19,
   "metadata": {},
   "outputs": [
    {
     "data": {
      "text/plain": [
       "Variable\n",
       "FedExCup Season Points - (RESET POINTS)    11223\n",
       "dtype: int64"
      ]
     },
     "execution_count": 19,
     "metadata": {},
     "output_type": "execute_result"
    }
   ],
   "source": [
    "s = df.isna().sum()\n",
    "s[s>0]"
   ]
  },
  {
   "cell_type": "code",
   "execution_count": 20,
   "metadata": {},
   "outputs": [],
   "source": [
    "df= df.drop('FedExCup Season Points - (RESET POINTS)', axis=1)"
   ]
  },
  {
   "cell_type": "markdown",
   "metadata": {},
   "source": [
    "Before we can apply clustering algorithm we have to deal with two problematic issues. \n",
    "First thing is different scales of variables, which makes them incomparable. Fortunatly, this can be solved by applying one of many scaling methods implemented in scikit-learn module. We choose to use StandardScaler. Second problem is 'Curse of Dimentionality'. We have data points lying in over 2000-dimentional space, this is very inconvenient when performing algorithms based on distance. To deal with that, we apply one of the dimentionality reduction methods. We use Principal Component Analysis (PCA). Another option worth testing is Singular Value Decomposition (SVD)."
   ]
  },
  {
   "cell_type": "markdown",
   "metadata": {},
   "source": [
    "Data standardizing:"
   ]
  },
  {
   "cell_type": "code",
   "execution_count": 21,
   "metadata": {},
   "outputs": [],
   "source": [
    "X = np.array(df.iloc[:,2:])\n",
    "scaler = StandardScaler()\n",
    "scaler.fit(X)\n",
    "X = scaler.transform(X)"
   ]
  },
  {
   "cell_type": "markdown",
   "metadata": {},
   "source": [
    "## 2. Model selection for clustering"
   ]
  },
  {
   "cell_type": "markdown",
   "metadata": {},
   "source": [
    "Let us use PCA's explained variance ratio to choose range of number of components (n_components) for parameters tuning "
   ]
  },
  {
   "cell_type": "code",
   "execution_count": 22,
   "metadata": {},
   "outputs": [
    {
     "name": "stdout",
     "output_type": "stream",
     "text": [
      "[0.3436 0.053  0.0499 0.0362 0.0246 0.0209 0.0197 0.0123 0.0108 0.0099\n",
      " 0.0091 0.008  0.0076 0.0067 0.0063 0.0062 0.006  0.0058 0.0057 0.0055\n",
      " 0.0055 0.0051 0.0049 0.0046 0.0044 0.0043 0.0041 0.004  0.0039 0.0038]\n"
     ]
    }
   ],
   "source": [
    "pca = PCA()\n",
    "pca.fit(X)\n",
    "print(np.round(pca.explained_variance_ratio_[:30],4))"
   ]
  },
  {
   "cell_type": "markdown",
   "metadata": {},
   "source": [
    "We are dealing with clustering problem without information about desired grouping of data points, thus we use silhouette score as a measure of performance of our models. For simplicity and due to time constraints we will tune only one parameter (n_components) for PCA transformation and one parameter (n_clusters) for K-Means. We choose model with the highest silhouette score.  "
   ]
  },
  {
   "cell_type": "code",
   "execution_count": 23,
   "metadata": {},
   "outputs": [
    {
     "name": "stdout",
     "output_type": "stream",
     "text": [
      "Best Silhouette score for k-means: 0.7304844919736924\n",
      "Best n_components: 4 \n",
      "Best n_clusters: 15\n"
     ]
    }
   ],
   "source": [
    "pca_components = np.arange(2,11)\n",
    "kmeans_clusters = [15, 20, 25]\n",
    "\n",
    "best_comp=None\n",
    "best_clus=None\n",
    "best_score=-2\n",
    "best_labels = None\n",
    "\n",
    "for comp, clus in product(pca_components, kmeans_clusters):\n",
    "    pipe = make_pipeline(PCA(n_components=comp), KMeans(n_clusters=clus, n_init=10))\n",
    "    y_pipe = pipe.fit_predict(X)\n",
    "    score = silhouette_score(X,pipe[1].labels_)\n",
    "    if score> best_score:\n",
    "        best_score=score\n",
    "        best_clus=clus\n",
    "        best_comp=comp\n",
    "        best_labels = pipe[1].labels_\n",
    "\n",
    "km_labels= best_labels       \n",
    "print('Best Silhouette score for k-means: {}'.format(silhouette_score(X,best_labels)))\n",
    "print('Best n_components: {comp} \\nBest n_clusters: {clus}'.format(comp=best_comp, clus=best_clus))"
   ]
  },
  {
   "cell_type": "markdown",
   "metadata": {},
   "source": [
    "Also, we can consider using DBSCAN model instead of K-Means. We tune epsilon and min_samples parameters."
   ]
  },
  {
   "cell_type": "code",
   "execution_count": 24,
   "metadata": {},
   "outputs": [
    {
     "name": "stdout",
     "output_type": "stream",
     "text": [
      "Best Silhouette score for DBSCAN: 0.7229516270169167\n",
      "Best n_components: 5 \n",
      "Best epsilon: 3 \n",
      "Best min_samples: 2\n"
     ]
    }
   ],
   "source": [
    "pca_components = np.arange(2,11)\n",
    "dbscan_eps = [2,3,5]\n",
    "dbscan_sampl = [2,4,6]\n",
    "\n",
    "best_comp = None\n",
    "best_e=None\n",
    "best_s=None\n",
    "best_score=-2\n",
    "best_labels = None\n",
    "\n",
    "for comp,e,s in product(pca_components, dbscan_eps,dbscan_sampl):\n",
    "    pipe = make_pipeline(PCA(n_components=comp), DBSCAN(eps=e, min_samples=e, metric='euclidean', n_jobs=-1))\n",
    "    y_pipe = pipe.fit_predict(X)\n",
    "    score = silhouette_score(X,pipe[1].labels_)\n",
    "    if score> best_score:\n",
    "        best_score=score\n",
    "        best_comp=comp\n",
    "        best_e=e\n",
    "        best_s=s\n",
    "        best_labels = pipe[1].labels_\n",
    "\n",
    "db_labels = best_labels\n",
    "print('Best Silhouette score for DBSCAN: {}'.format(silhouette_score(X,best_labels)))\n",
    "print('Best n_components: {comp} \\nBest epsilon: {e} \\nBest min_samples: {s}'\\\n",
    "      .format(comp=best_comp, e=best_e, s=best_s))"
   ]
  },
  {
   "cell_type": "markdown",
   "metadata": {},
   "source": [
    "Let us now visualize (using t-SNE projection) best clustering found."
   ]
  },
  {
   "cell_type": "code",
   "execution_count": 25,
   "metadata": {},
   "outputs": [],
   "source": [
    "tsne = TSNE()\n",
    "X_tsne = tsne.fit_transform(X)"
   ]
  },
  {
   "cell_type": "code",
   "execution_count": 26,
   "metadata": {},
   "outputs": [],
   "source": [
    "colors = ['red', 'blue', 'green', 'black', 'purple', 'yellow', 'brown', 'pink']+list(mcolors.CSS4_COLORS)"
   ]
  },
  {
   "cell_type": "code",
   "execution_count": 27,
   "metadata": {},
   "outputs": [
    {
     "data": {
      "image/png": "[encoded data removed]",
      "text/plain": [
       "<Figure size 720x720 with 1 Axes>"
      ]
     },
     "metadata": {
      "needs_background": "light"
     },
     "output_type": "display_data"
    }
   ],
   "source": [
    "plt.figure(figsize=(10, 10))\n",
    "plt.xlim(X_tsne[:, 0].min(), X_tsne[:, 0].max() + 1)\n",
    "plt.ylim(X_tsne[:, 1].min(), X_tsne[:, 1].max() + 1)\n",
    "plt.scatter(X_tsne[:,0], X_tsne[:,1], c=km_labels)\n",
    "plt.xlabel(\"t-SNE feature 0\")\n",
    "plt.ylabel(\"t-SNE feature 1\")\n",
    "plt.show()"
   ]
  },
  {
   "cell_type": "markdown",
   "metadata": {},
   "source": [
    "## 3. Predicting total score"
   ]
  },
  {
   "cell_type": "markdown",
   "metadata": {},
   "source": [
    "We wish to retrieve ranking of players based on other statistics. We choose column 'Official World Golf Ranking - (TOTAL POINTS)' to be our target variable. Thus, we drop all other columns associated with statistic 'Official World Golf Ranking'."
   ]
  },
  {
   "cell_type": "code",
   "execution_count": 28,
   "metadata": {},
   "outputs": [],
   "source": [
    "df_temp = pd.read_csv('/home/agnieszka/pga-tour-20102018-data/PGA_Data_Historical.csv')"
   ]
  },
  {
   "cell_type": "code",
   "execution_count": 29,
   "metadata": {},
   "outputs": [
    {
     "name": "stdout",
     "output_type": "stream",
     "text": [
      "['Official World Golf Ranking - (EVENTS)'\n",
      " 'Official World Golf Ranking - (AVG POINTS)'\n",
      " 'Official World Golf Ranking - (POINTS LOST)'\n",
      " 'Official World Golf Ranking - (POINTS GAINED)'\n",
      " 'Official World Golf Ranking - (COUNTRY)']\n"
     ]
    }
   ],
   "source": [
    "cols_to_drop = df_temp[(df_temp.Statistic=='Official World Golf Ranking')\\\n",
    "                       &(df_temp.Variable!='Official World Golf Ranking - (TOTAL POINTS)')].Variable.unique()\n",
    "print(cols_to_drop)"
   ]
  },
  {
   "cell_type": "code",
   "execution_count": 30,
   "metadata": {},
   "outputs": [],
   "source": [
    "df_2 = df_hist.drop(['Official World Golf Ranking - (EVENTS)', 'Official World Golf Ranking - (AVG POINTS)',\\\n",
    "                        'Official World Golf Ranking - (POINTS LOST)','Official World Golf Ranking - (POINTS GAINED)'],\\\n",
    "                       axis=1)"
   ]
  },
  {
   "cell_type": "code",
   "execution_count": 31,
   "metadata": {},
   "outputs": [
    {
     "name": "stderr",
     "output_type": "stream",
     "text": [
      "/home/agnieszka/daft_env/lib/python3.6/site-packages/numpy/lib/nanfunctions.py:1112: RuntimeWarning: Mean of empty slice\n",
      "  return np.nanmean(a, axis, out=out, keepdims=keepdims)\n",
      "/home/agnieszka/daft_env/lib/python3.6/site-packages/numpy/lib/nanfunctions.py:994: RuntimeWarning: All-NaN slice encountered\n",
      "  result = np.apply_along_axis(_nanmedian1d, axis, a, overwrite_input)\n"
     ]
    },
    {
     "data": {
      "text/plain": [
       "Variable\n",
       "FedExCup Season Points - (RESET POINTS)    8937\n",
       "dtype: int64"
      ]
     },
     "execution_count": 31,
     "metadata": {},
     "output_type": "execute_result"
    }
   ],
   "source": [
    "df_2 = df_2[~df_2['Official World Golf Ranking - (TOTAL POINTS)'].isna()]\n",
    "df_2 = df_2.fillna(df_2.median())\n",
    "s = df_2.isna().sum()\n",
    "s[s>0]"
   ]
  },
  {
   "cell_type": "code",
   "execution_count": 32,
   "metadata": {},
   "outputs": [],
   "source": [
    "df_2 = df_2.drop('FedExCup Season Points - (RESET POINTS)', axis=1)"
   ]
  },
  {
   "cell_type": "markdown",
   "metadata": {},
   "source": [
    "Having estimations of total score for each player we can have prediction of ranking. So, we will build and train regression model for estimating total score of players. We choose RandomForestRegressor. First, we split dataset to train and test set."
   ]
  },
  {
   "cell_type": "code",
   "execution_count": 33,
   "metadata": {},
   "outputs": [],
   "source": [
    "y = df_2['Official World Golf Ranking - (TOTAL POINTS)']\n",
    "df_2 = df_2.drop('Official World Golf Ranking - (TOTAL POINTS)', axis=1)\n",
    "\n",
    "X = np.array(df_2.iloc[:,2:])\n",
    "X_train, X_test, y_train, y_test = train_test_split(X, y, test_size=0.3)"
   ]
  },
  {
   "cell_type": "code",
   "execution_count": 34,
   "metadata": {},
   "outputs": [
    {
     "name": "stdout",
     "output_type": "stream",
     "text": [
      "Best score: 0.8863594546593274\n",
      "Best n_estimators: 40\n",
      "Best max_depth: 12\n",
      "Best max_features: 0.5\n"
     ]
    }
   ],
   "source": [
    "estimators = [10,20,30,40]\n",
    "depth = [7,9,12,15]\n",
    "features=[0.5, 0.7, 0.9]\n",
    "\n",
    "best_score=-10000000\n",
    "best_e = None\n",
    "best_d = None\n",
    "best_f = None\n",
    "\n",
    "for e,d,f in product(estimators,depth, features):\n",
    "    forest = RandomForestRegressor(n_estimators=e, max_depth=d, max_features=f)\n",
    "    forest.fit(X_train, y_train)\n",
    "    score = forest.score(X_test, y_test)\n",
    "    if score>best_score:\n",
    "        best_score = score\n",
    "        best_e = e\n",
    "        best_d = d\n",
    "        best_f = f\n",
    "\n",
    "print('Best score: {}'.format(best_score))\n",
    "print('Best n_estimators: {}'.format(best_e))\n",
    "print('Best max_depth: {}'.format(best_d))\n",
    "print('Best max_features: {}'.format(best_f))"
   ]
  },
  {
   "cell_type": "markdown",
   "metadata": {},
   "source": [
    "We can check which feature was the most important in estimating total score of players."
   ]
  },
  {
   "cell_type": "code",
   "execution_count": 36,
   "metadata": {},
   "outputs": [
    {
     "name": "stdout",
     "output_type": "stream",
     "text": [
      "Most important: Total Money (Official and Unofficial) - (MONEY)\n",
      "Number of splits with that feature: 0.3910696513606179\n"
     ]
    }
   ],
   "source": [
    "print('Most important: {}'.format(df_2.columns[forest.feature_importances_.argmax()+2]))\n",
    "print('Number of splits with that feature: {}'.format(forest.feature_importances_.max()))                            "
   ]
  },
  {
   "cell_type": "markdown",
   "metadata": {},
   "source": [
    "## 4. Future work"
   ]
  },
  {
   "cell_type": "markdown",
   "metadata": {},
   "source": [
    "The biggest weakness of this project is replacing such a huge amount of missing data with median. My next step would be testing clustering with modified K-Means algorithm, where distance from centroids is calculated using only part of coordinates. On the other hand leaving missing data would cause problems with dimentionality reduction.\n",
    "\n",
    "To find better models one may search bigger parameters grid while tuning.\n",
    "\n",
    "It would be interesting to see how different clustering models correlate with players performance.\n",
    "\n",
    "To retrieve ranking of players from other data, one can use regression model and build ranking based on estimated values. Another option is to create a model that given two players' statistics predicts which one is better. "
   ]
  },
  {
   "cell_type": "code",
   "execution_count": null,
   "metadata": {},
   "outputs": [],
   "source": []
  }
 ],
 "metadata": {
  "kernelspec": {
   "display_name": "Python 3",
   "language": "python",
   "name": "python3"
  },
  "language_info": {
   "codemirror_mode": {
    "name": "ipython",
    "version": 3
   },
   "file_extension": ".py",
   "mimetype": "text/x-python",
   "name": "python",
   "nbconvert_exporter": "python",
   "pygments_lexer": "ipython3",
   "version": "3.6.8"
  }
 },
 "nbformat": 4,
 "nbformat_minor": 2
}
